{
 "cells": [
  {
   "cell_type": "markdown",
   "metadata": {
    "id": "31OW0dhozvli"
   },
   "source": [
    "## 1. Load Essential Libraries"
   ]
  },
  {
   "cell_type": "code",
   "execution_count": 29,
   "metadata": {
    "colab": {
     "base_uri": "https://localhost:8080/"
    },
    "executionInfo": {
     "elapsed": 4302,
     "status": "ok",
     "timestamp": 1620003107454,
     "user": {
      "displayName": "Essam Dawood",
      "photoUrl": "",
      "userId": "03786510186214300863"
     },
     "user_tz": -180
    },
    "id": "F-HS41D92gzx",
    "outputId": "095e6801-48ca-45bb-be80-0d0f986f25b8"
   },
   "outputs": [
    {
     "name": "stderr",
     "output_type": "stream",
     "text": [
      "[nltk_data] Downloading package stopwords to\n",
      "[nltk_data]     C:\\Users\\DELL\\AppData\\Roaming\\nltk_data...\n",
      "[nltk_data]   Package stopwords is already up-to-date!\n",
      "[nltk_data] Downloading package wordnet to\n",
      "[nltk_data]     C:\\Users\\DELL\\AppData\\Roaming\\nltk_data...\n",
      "[nltk_data]   Package wordnet is already up-to-date!\n",
      "[nltk_data] Downloading package punkt to\n",
      "[nltk_data]     C:\\Users\\DELL\\AppData\\Roaming\\nltk_data...\n",
      "[nltk_data]   Package punkt is already up-to-date!\n"
     ]
    },
    {
     "data": {
      "text/plain": [
       "True"
      ]
     },
     "execution_count": 29,
     "metadata": {},
     "output_type": "execute_result"
    }
   ],
   "source": [
    "import pandas as pd\n",
    "import re\n",
    "import time\n",
    "import nltk\n",
    "\n",
    "from sklearn.metrics import classification_report\n",
    "from sklearn.feature_extraction.text import  CountVectorizer\n",
    "from sklearn.model_selection import train_test_split\n",
    "from sklearn.feature_extraction.text import TfidfTransformer\n",
    "from sklearn.neural_network import MLPClassifier\n",
    "from sklearn.pipeline import Pipeline\n",
    "from sklearn.naive_bayes import MultinomialNB\n",
    "#from sklearn.naive_bayes import ComplementNB\n",
    "\n",
    "from sklearn.linear_model import SGDClassifier\n",
    "from sklearn.tree import DecisionTreeClassifier\n",
    "from sklearn.svm import SVC\n",
    "from sklearn.linear_model import LogisticRegression\n",
    "import pickle\n",
    " \n",
    "#import nltk\n",
    "from nltk.corpus import stopwords\n",
    "import re\n",
    "from nltk.tokenize import word_tokenize \n",
    "from nltk.stem import WordNetLemmatizer \n",
    "from nltk.stem import PorterStemmer\n",
    "import re as reg\n",
    "from nltk.stem.isri import ISRIStemmer\n",
    "import numpy as np\n",
    "\n",
    "import warnings\n",
    "warnings.filterwarnings(\"ignore\")\n",
    "\n",
    "lemmatizer = WordNetLemmatizer()\n",
    "ps = PorterStemmer()\n",
    "st = ISRIStemmer()\n",
    "nltk.download('stopwords')\n",
    "nltk.download('wordnet')\n",
    "nltk.download('punkt')"
   ]
  },
  {
   "cell_type": "code",
   "execution_count": 31,
   "metadata": {
    "id": "_lTXsMK3sNYr"
   },
   "outputs": [],
   "source": [
    "import os\n",
    "import re\n",
    "from tqdm import tqdm\n",
    "import numpy as np\n",
    "import pandas as pd\n",
    "import matplotlib.pyplot as plt\n",
    "\n",
    "%matplotlib inline\n",
    "\n",
    "#pretrained_model='UBC-NLP/ARBERT'   #2 epochs is the best 73%\n",
    "#pretrained_model='UBC-NLP/MARBERT'  # 70%\n",
    "#pretrained_model='asafaya/bert-large-arabic' #memory error\n",
    "#pretrained_model='asafaya/bert-medium-arabic'  #memory error\n",
    "#pretrained_model='bashar-talafha/multi-dialect-bert-base-arabic'\n",
    "pretrained_model=\"asafaya/bert-base-arabic\"  #3 epochs is the best  76%\n",
    "#pretrained_model=\"CAMeL-Lab/bert-base-camelbert-msa-sixteenth\"  #69% ep=2\n",
    "epoch_bert=1\n"
   ]
  },
  {
   "cell_type": "code",
   "execution_count": null,
   "metadata": {
    "colab": {
     "base_uri": "https://localhost:8080/"
    },
    "executionInfo": {
     "elapsed": 2518,
     "status": "ok",
     "timestamp": 1620003105662,
     "user": {
      "displayName": "Essam Dawood",
      "photoUrl": "",
      "userId": "03786510186214300863"
     },
     "user_tz": -180
    },
    "id": "9BQSSYtu2oPI",
    "outputId": "fe1f4ec2-da27-479b-9949-440479878e3b"
   },
   "outputs": [
    {
     "name": "stdout",
     "output_type": "stream",
     "text": [
      "Drive already mounted at /content/drive; to attempt to forcibly remount, call drive.mount(\"/content/drive\", force_remount=True).\n"
     ]
    }
   ],
   "source": [
    "from google.colab import drive\n",
    "drive.mount('/content/drive')"
   ]
  },
  {
   "cell_type": "markdown",
   "metadata": {
    "id": "u07WRKnxsX96"
   },
   "source": [
    "## 2. Dataset"
   ]
  },
  {
   "cell_type": "code",
   "execution_count": 34,
   "metadata": {
    "colab": {
     "base_uri": "https://localhost:8080/"
    },
    "executionInfo": {
     "elapsed": 49677,
     "status": "ok",
     "timestamp": 1620003152837,
     "user": {
      "displayName": "Essam Dawood",
      "photoUrl": "",
      "userId": "03786510186214300863"
     },
     "user_tz": -180
    },
    "id": "5AF2Qh6BzP-y",
    "outputId": "512ddd43-8797-4fbe-8cb3-f134fc8d8c1d"
   },
   "outputs": [
    {
     "name": "stdout",
     "output_type": "stream",
     "text": [
      "Start\n"
     ]
    },
    {
     "data": {
      "text/plain": [
       "115919"
      ]
     },
     "execution_count": 34,
     "metadata": {},
     "output_type": "execute_result"
    }
   ],
   "source": [
    "\n",
    "print(\"Start\")\n",
    "\n",
    "data = pd.read_excel(\"all_files_5th.xlsx\")\n",
    "df2 = pd.read_excel(\"d_7_1.xlsx\")\n",
    "\n",
    "data.sample(5)\n",
    "len(data)"
   ]
  },
  {
   "cell_type": "code",
   "execution_count": null,
   "metadata": {
    "colab": {
     "base_uri": "https://localhost:8080/",
     "height": 285
    },
    "executionInfo": {
     "elapsed": 62567,
     "status": "ok",
     "timestamp": 1620003165743,
     "user": {
      "displayName": "Essam Dawood",
      "photoUrl": "",
      "userId": "03786510186214300863"
     },
     "user_tz": -180
    },
    "id": "jRy8t4ytA-vI",
    "outputId": "485ee3de-3889-4b6f-ba7e-e2611ffe384f"
   },
   "outputs": [
    {
     "name": "stdout",
     "output_type": "stream",
     "text": [
      "The number of all records is:  75348\n",
      "The number of Arabic records is:  35937\n",
      "The number of English records is:  39408\n",
      "Preprocessing ..........\n",
      "Preprocessing ..........\n"
     ]
    },
    {
     "data": {
      "text/html": [
       "<div>\n",
       "<style scoped>\n",
       "    .dataframe tbody tr th:only-of-type {\n",
       "        vertical-align: middle;\n",
       "    }\n",
       "\n",
       "    .dataframe tbody tr th {\n",
       "        vertical-align: top;\n",
       "    }\n",
       "\n",
       "    .dataframe thead th {\n",
       "        text-align: right;\n",
       "    }\n",
       "</style>\n",
       "<table border=\"1\" class=\"dataframe\">\n",
       "  <thead>\n",
       "    <tr style=\"text-align: right;\">\n",
       "      <th></th>\n",
       "      <th>body</th>\n",
       "      <th>factual_tag</th>\n",
       "      <th>post_language</th>\n",
       "    </tr>\n",
       "  </thead>\n",
       "  <tbody>\n",
       "    <tr>\n",
       "      <th>19794</th>\n",
       "      <td>انا رافع رايات عشقي بدور ع الي مش ملقي يحارب ك...</td>\n",
       "      <td>0</td>\n",
       "      <td>ar</td>\n",
       "    </tr>\n",
       "    <tr>\n",
       "      <th>7770</th>\n",
       "      <td>العرض المدني في عيد الاستقلال امام افواج البنا...</td>\n",
       "      <td>0</td>\n",
       "      <td>ar</td>\n",
       "    </tr>\n",
       "    <tr>\n",
       "      <th>3496</th>\n",
       "      <td>صباح الخير اتمني التوفيق لجميع الفرق السعوديه ...</td>\n",
       "      <td>0</td>\n",
       "      <td>ar</td>\n",
       "    </tr>\n",
       "    <tr>\n",
       "      <th>24008</th>\n",
       "      <td>يسر جمعيه الطلبه العمانين بمدينه جلاسجو تهنءه ...</td>\n",
       "      <td>0</td>\n",
       "      <td>ar</td>\n",
       "    </tr>\n",
       "    <tr>\n",
       "      <th>29210</th>\n",
       "      <td>ناءج الفحوصات ليس هناك اي اصابه كورونا من بين ...</td>\n",
       "      <td>0</td>\n",
       "      <td>ar</td>\n",
       "    </tr>\n",
       "  </tbody>\n",
       "</table>\n",
       "</div>"
      ],
      "text/plain": [
       "                                                    body  ...  post_language\n",
       "19794  انا رافع رايات عشقي بدور ع الي مش ملقي يحارب ك...  ...             ar\n",
       "7770   العرض المدني في عيد الاستقلال امام افواج البنا...  ...             ar\n",
       "3496   صباح الخير اتمني التوفيق لجميع الفرق السعوديه ...  ...             ar\n",
       "24008  يسر جمعيه الطلبه العمانين بمدينه جلاسجو تهنءه ...  ...             ar\n",
       "29210  ناءج الفحوصات ليس هناك اي اصابه كورونا من بين ...  ...             ar\n",
       "\n",
       "[5 rows x 3 columns]"
      ]
     },
     "execution_count": 6,
     "metadata": {
      "tags": []
     },
     "output_type": "execute_result"
    }
   ],
   "source": [
    "#data=data[:20000]\n",
    "\n",
    "\n",
    "############### To let Inaccurate=Fake News #############################\n",
    "\"\"\"\n",
    "lst=data['factual_tag']\n",
    "lst2=['Fake News' if x==\"Inaccurate\" else x for x in lst ]\n",
    "data['factual_tag']=lst2\n",
    "\n",
    "\n",
    "\n",
    "lst=df2['factual_tag']\n",
    "lst2=['Fake News' if x==\"Inaccurate\" else x for x in lst ]\n",
    "df2['factual_tag']=lst2\n",
    "\"\"\"\n",
    "\n",
    "\"\"\"\n",
    "############### To let Not Fake News=Neutral #############################\n",
    "lst=data['factual_tag']\n",
    "lst2=['Not Fake News' if x==\"Neutral\" else x for x in lst ]\n",
    "data['factual_tag']=lst2\n",
    "\n",
    "lst=df2['factual_tag']\n",
    "lst2=['Not Fake News' if x==\"Neutral\" else x for x in lst ]\n",
    "df2['factual_tag']=lst2\n",
    "\"\"\"\n",
    "\n",
    " \n",
    "############### To drop Inaccurate #############################\n",
    "idx = data.index[data['factual_tag']==\"Inaccurate\"]\n",
    "data = data.drop(idx, axis=0)\n",
    "data= data.reset_index(drop=True)\n",
    "\n",
    "idx = df2.index[df2['factual_tag']==\"Inaccurate\"]\n",
    "df2 = df2.drop(idx, axis=0)\n",
    "df2= df2.reset_index(drop=True)\n",
    "\n",
    "\n",
    "\n",
    "\n",
    "############### To drop Neutral  #############################\n",
    "idx = data.index[data['factual_tag']==\"Neutral\"]\n",
    "data = data.drop(idx, axis=0)\n",
    "data= data.reset_index(drop=True)\n",
    "\n",
    "idx = df2.index[df2['factual_tag']==\"Neutral\"]\n",
    "df2 = df2.drop(idx, axis=0)\n",
    "df2= df2.reset_index(drop=True)\n",
    " \n",
    "\n",
    "\n",
    "\"\"\"\n",
    "############### To let Positive =Neutral #############################\n",
    "lst=data['sentiment_tag']\n",
    "lst2=['Positive' if x==\"Neutral\" else x for x in lst ]\n",
    "data['sentiment_tag']=lst2\n",
    "\n",
    "lst=df2['sentiment_tag']\n",
    "lst2=['Positive' if x==\"Neutral\" else x for x in lst ]\n",
    "df2['sentiment_tag']=lst2\n",
    "##########################################\n",
    "\n",
    "\n",
    "\n",
    "############### To let spam =Fake News  #############################\n",
    "lst=data['factual_tag']\n",
    "lst_spam=data['Spam']\n",
    "lst2=['Fake News' if lst_spam[i]==1 else lst[i] for i in range(len(lst)) ]\n",
    "data['factual_tag']=lst2\n",
    "\n",
    "\"\"\" \n",
    "\n",
    "'''\n",
    "['body', 'category', 'post_language', 'owner_user_id', 'amount_likes',\n",
    "       'amount_comments', 'social_network_id', 'social_user_id',\n",
    "       'social_post_id', 'amount_comments', 'amount_likes',\n",
    "       'shared_posts_count', 'shared_posts_count_direct', 'user_id',\n",
    "       'last_refresh_comments_at', 'reply_data', 'factual_tag',\n",
    "       'emotional_tag', 'sentiment_tag', 'category_tag', 'general_tags'],\n",
    "      dtype='object')\n",
    "'''\n",
    "###########################################################################################################\n",
    "\n",
    "\n",
    "data=data[['body','factual_tag','post_language']]\n",
    "list1=data['body']\n",
    "list2=data['factual_tag']\n",
    "list3=data['post_language']\n",
    "list2=[0  if x=='Not Fake News' else 1 for x in list2]\n",
    "list1=[x[:1000] if type(x)==str else x for x in list1]\n",
    "lis_tb=[(list1[i],list2[i],list3[i])  for i in range(len(list1))]\n",
    "data=pd.DataFrame(lis_tb, columns =['body','factual_tag','post_language'])\n",
    "\n",
    "\n",
    "df2=df2[['body','factual_tag','post_language']]\n",
    "list1=df2['body']\n",
    "list2=df2['factual_tag']\n",
    "list3=df2['post_language']\n",
    "list2=[0  if x=='Not Fake News' else 1 for x in list2]\n",
    "list1=[x[:1000] if type(x)==str else x for x in list1]\n",
    "lis_tb=[(list1[i],list2[i],list3[i])  for i in range(len(list1))]\n",
    "df2=pd.DataFrame(lis_tb, columns =['body','factual_tag','post_language'])\n",
    "\n",
    "### to select arabic (L='ar') or English (L='en') or both (L='all')\n",
    "L='ar' \n",
    "n=500000  # The number of the samples, the best is 500000  for en  and  400000 for  ar\n",
    "th=0       # threshold to delete small posts which has length<th\n",
    "text='body'#'text'\n",
    "tag='factual_tag'#\n",
    "#tag='sentiment_tag'#\n",
    "#tag='emotional_tag'#'tag'\n",
    "#tag=\"Formal\"\n",
    "#tag=\"Spam\"\n",
    "#tag=\"Opinion\"\n",
    "#tag=\"Hate Speech\"\n",
    "#tag=\"Sarcasm\"\n",
    "#tag=\"Congratulation\"\n",
    "Language='post_language'#'Language'\n",
    "embedding=0#True\n",
    "prob=0\n",
    "################################\n",
    "\n",
    "\n",
    "\n",
    "def normalize_arabic(text):  ### This method is to normalize the Arabic characters \n",
    "    text = re.sub(\"[إأآا]\", \"ا\", text)\n",
    "    text = re.sub(\"ى\", \"ي\", text)\n",
    "    text = re.sub(\"ؤ\", \"ء\", text)\n",
    "    text = re.sub(\"ئ\", \"ء\", text)\n",
    "    text = re.sub(\"ة\", \"ه\", text)\n",
    "    text = re.sub(\"گ\", \"ك\", text)\n",
    "    return text   \n",
    "\n",
    "\n",
    "\n",
    "## To find arabic Tashkeel\n",
    "arabic_diacritics = re.compile(\"\"\"  \n",
    "                             ّ    | # Tashdid\n",
    "                             َ    | # Fatha\n",
    "                             ً    | # Tanwin Fath\n",
    "                             ُ    | # Damma\n",
    "                             ٌ    | # Tanwin Damm\n",
    "                             ِ    | # Kasra\n",
    "                             ٍ    | # Tanwin Kasr\n",
    "                             ْ    | # Sukun\n",
    "                             ـ     # Tatwil/Kashida\n",
    "                         \"\"\", re.VERBOSE)\n",
    "\n",
    "def modify_post(input_str):   ### This method is to perform the preprocessing operations \n",
    "    input_str = re.sub(r'http\\S+', '', input_str)  #remove URL\n",
    "    input_str = re.sub(r'[^\\w\\s]','',input_str)  #remove punctuation \n",
    "    input_str = re.sub('_+' , ' ', input_str)  #remove underscore \n",
    "    input_str = re.sub(r'\\s+', ' ', input_str)   #remove newLine\n",
    "    input_str = re.sub(arabic_diacritics, '', input_str)   #Tashkeel\n",
    "    input_str = normalize_arabic(input_str)      # Normalization\n",
    "    input_str= re.sub('[0-9]+', 'ارقام', input_str)   #Replace digits  \n",
    "    \n",
    "    #input_str= re.sub(' ال', ' ', input_str)      ## remove AL   \n",
    "    #input_str= re.sub(' وال', ' ', input_str)     ## remove wAL \n",
    "    #input_str= re.sub(' فال', ' ', input_str)     ## remove fAL \n",
    "\n",
    "    pattern = re.compile(r'\\b(' + r'|'.join(stopwords.words('arabic')) + r')\\b\\s*')  # NLTK stop\n",
    "    #input_str=pattern.sub(' ',input_str) # remove stop words\n",
    "    pattern = re.compile(r'\\b(' + r'|'.join(stopwords.words('english')) + r')\\b\\s*')  # NLTK stop\n",
    "    #input_str=pattern.sub(' ',input_str) # remove stop words\n",
    "\n",
    "    pattern=reg.compile(r\"(.)\\1{1,}\",reg.DOTALL)\n",
    "    input_str=pattern.sub(r\"\\1\",input_str)   #remove duplicate ch\n",
    "    \n",
    " \n",
    "    \n",
    "    #input_str = input_str.lower()         #Lower\n",
    "    #input_str = ' '.join([lemmatizer.lemmatize(w) for w in nltk.word_tokenize(input_str)])  # lemmatize\n",
    "    #input_str = ' '.join([ps.stem(w) for w in nltk.word_tokenize(input_str)])   #Stem English\n",
    "    #input_str = ' '.join([st.stem(w) for w in nltk.word_tokenize(input_str)])   #Stem Arabic\n",
    "    \n",
    "    #input_str=translitArabic(input_str)\n",
    "    \n",
    "    return input_str\n",
    "\n",
    "import  random\n",
    "def oversample(df, m):\n",
    "    x=len(df)\n",
    "    #print(x)\n",
    "    df2=df.copy()\n",
    "    while len(df2)<m:\n",
    "        df2=pd.concat([df2,df] , axis=0, ignore_index=True)\n",
    "        \n",
    "    y=len(df2)\n",
    "    #print(y)\n",
    "    for i in range(x,y):\n",
    "        v1=random.randint(1,x-1)\n",
    "        v2=random.randint(1,x-1)\n",
    "        v5=random.randint(1,x-1)\n",
    "        #print(i,\"   \",v1,\"    \",v2)\n",
    "        v3=len(df2[text][v1])\n",
    "        v4=len(df2[text][v2])\n",
    "        #df2[text][i]=df2[text][v1][:int(v3/2)]+df2[text][v2][int(v4/2):]\n",
    "        df2[text][i]=df2[text][v1]+df2[text][v2]+df2[text][v5]\n",
    "\n",
    "    #print(\"###############\",len(df2))\n",
    "    return df2\n",
    "\n",
    "def do_over_sample(df, m):  ### This method is to return Oversampinge from smaell categories \n",
    "    d1=pd.DataFrame()\n",
    "    set_tag=set(data[tag])\n",
    "    for x in set_tag:\n",
    "        t1=df[df[tag]==x]\n",
    "        if len(t1)<=m: t1=oversample(t1, m)\n",
    "        d1=pd.concat([d1,t1], axis=0, ignore_index=True)\n",
    "    return d1\n",
    "\n",
    "data=data[data[text].map(type) == str]      ### to convert all post body  to sting, this is necessary for blank posts\n",
    "data[text] = data[text].str.lower()  ### to conver all ch to lower case\n",
    " \n",
    "\n",
    "print(\"The number of all records is: \",len(data))\n",
    "data_ar=data[data[Language]=='ar']\n",
    "print(\"The number of Arabic records is: \", len(data_ar))\n",
    "data_en=data[data[Language]=='en']\n",
    "print(\"The number of English records is: \", len(data_en))\n",
    "#print()\n",
    "\n",
    "\n",
    "data=data[data[Language]==L]\n",
    "print(\"Preprocessing ..........\")\n",
    "#data_ar=sample_story(data_ar,2)\n",
    "data=data[data[text].map(len)>th]\n",
    "#data_ar=cat_sample(data_ar,n)\n",
    "#data= do_over_sample(data, 500)\n",
    "data= data.reset_index(drop=True)\n",
    "#data2=data.copy()\n",
    "data[text]=data[text].apply(modify_post)\n",
    "\n",
    "\n",
    "\n",
    "df2=df2[df2[text].map(type) == str]      ### to convert all post body  to sting, this is necessary for blank posts\n",
    "df2[text] = df2[text].str.lower()  ### to conver all ch to lower case\n",
    "df2=df2[df2[Language]==L]\n",
    "print(\"Preprocessing ..........\")\n",
    "#data_ar=sample_story(data_ar,2)\n",
    "df2=df2[df2[text].map(len)>th]\n",
    "#data_ar=cat_sample(data_ar,n)\n",
    "#data= do_over_sample(data, 500)\n",
    "df2= df2.reset_index(drop=True)\n",
    "#data2=data.copy()\n",
    "df2[text]=df2[text].apply(modify_post)\n",
    "\n",
    "\n",
    "data.sample(5)"
   ]
  },
  {
   "cell_type": "markdown",
   "metadata": {
    "id": "Cp-vfxKZvl6M"
   },
   "source": [
    "We will randomly split the entire training data into two sets: a train set with 90% of the data and a validation set with 10% of the data. We will perform hyperparameter tuning using cross-validation on the train set and use the validation set to compare models."
   ]
  },
  {
   "cell_type": "code",
   "execution_count": null,
   "metadata": {
    "id": "X4HKAFTbvMwI"
   },
   "outputs": [],
   "source": [
    "from sklearn.model_selection import train_test_split\n",
    "X=data.body.values\n",
    "y=data.factual_tag.values\n",
    "X_train, X_val, y_train, y_val =train_test_split(X, y, test_size = 0.001, random_state=0)\n",
    "#train_test_split(X, y, test_size=0.1, random_state=2020)"
   ]
  },
  {
   "cell_type": "markdown",
   "metadata": {
    "id": "pErITNxtyNpe"
   },
   "source": [
    "### 2.3. Load Test Data\n",
    "The test data contains 4555 examples with no label. About 300 examples are non-complaining tweets. Our task is to identify their `id` and examine manually whether our results are correct."
   ]
  },
  {
   "cell_type": "code",
   "execution_count": null,
   "metadata": {
    "colab": {
     "base_uri": "https://localhost:8080/"
    },
    "executionInfo": {
     "elapsed": 62555,
     "status": "ok",
     "timestamp": 1620003165744,
     "user": {
      "displayName": "Essam Dawood",
      "photoUrl": "",
      "userId": "03786510186214300863"
     },
     "user_tz": -180
    },
    "id": "_JWXnfBlwyWC",
    "outputId": "74317415-64b3-4802-c8a6-302f0e190999"
   },
   "outputs": [
    {
     "data": {
      "text/plain": [
       "632     نعود بحذر ملتزمين بالاجراءات الاحترازيه الصحيه...\n",
       "1417    رءيس الوزراء الفلسطيني د محمد اشتيه اطلب من اص...\n",
       "373     محكمه استءناف شبين الكوم تءيد الحكم علي المتهم...\n",
       "1458    شاهدبرنامج من دمشق عنوان الحلقه د رمضان شلحرجل...\n",
       "127                          حرق مدينه ولا كسر خاطر نصيحه\n",
       "Name: body, dtype: object"
      ]
     },
     "execution_count": 8,
     "metadata": {
      "tags": []
     },
     "output_type": "execute_result"
    }
   ],
   "source": [
    "# Load test data\n",
    "test_data = df2\n",
    "\n",
    "# Keep important columns\n",
    "test_data = test_data[text]\n",
    "\n",
    "# Display 5 samples from the test data\n",
    "test_data.sample(5)"
   ]
  },
  {
   "cell_type": "markdown",
   "metadata": {
    "id": "X79dYY3sxDCi"
   },
   "source": [
    "## 3. Set up GPU for training"
   ]
  },
  {
   "cell_type": "markdown",
   "metadata": {
    "id": "Zi1CoEOL1puh"
   },
   "source": [
    "Google Colab offers free GPUs and TPUs. Since we'll be training a large neural network it's best to utilize these features.\n",
    "\n",
    "A GPU can be added by going to the menu and selecting:\n",
    "\n",
    "`Runtime -> Change runtime type -> Hardware accelerator: GPU`\n",
    "\n",
    "Then we need to run the following cell to specify the GPU as the device."
   ]
  },
  {
   "cell_type": "code",
   "execution_count": null,
   "metadata": {
    "colab": {
     "base_uri": "https://localhost:8080/"
    },
    "executionInfo": {
     "elapsed": 63030,
     "status": "ok",
     "timestamp": 1620003166233,
     "user": {
      "displayName": "Essam Dawood",
      "photoUrl": "",
      "userId": "03786510186214300863"
     },
     "user_tz": -180
    },
    "id": "K7hxtI4l0SUJ",
    "outputId": "1c7d9f51-f85a-44c7-d5e0-4eb06608c76b"
   },
   "outputs": [
    {
     "name": "stdout",
     "output_type": "stream",
     "text": [
      "There are 1 GPU(s) available.\n",
      "Device name: Tesla P100-PCIE-16GB\n"
     ]
    }
   ],
   "source": [
    "import torch\n",
    "\n",
    "if torch.cuda.is_available():       \n",
    "    device = torch.device(\"cuda\")\n",
    "    print(f'There are {torch.cuda.device_count()} GPU(s) available.')\n",
    "    print('Device name:', torch.cuda.get_device_name(0))\n",
    "\n",
    "else:\n",
    "    print('No GPU available, using the CPU instead.')\n",
    "    device = torch.device(\"cpu\")"
   ]
  },
  {
   "cell_type": "markdown",
   "metadata": {
    "id": "9j6EbXLs12Kz"
   },
   "source": [
    "# Baseline: TF-IDF + Naive Bayes Classifier"
   ]
  },
  {
   "cell_type": "code",
   "execution_count": null,
   "metadata": {
    "id": "98rwWTSw_dEI"
   },
   "outputs": [],
   "source": [
    " \n",
    "import nltk\n",
    "# Uncomment to download \"stopwords\"\n",
    "#nltk.download(\"stopwords\")\n",
    "from nltk.corpus import stopwords\n",
    "\n",
    "def text_preprocessing(s):\n",
    "  \n",
    "    #Lowercase the sentence\n",
    "    # Change \"'t\" to \"not\"\n",
    "    # Remove \"@name\"\n",
    "    # Isolate and remove punctuations except \"?\"\n",
    "    # Remove other special characters\n",
    "    # Remove stop words except \"not\" and \"can\"\n",
    "    # Remove trailing whitespace\n",
    " \n",
    "    s = s.lower()\n",
    "    # Change 't to 'not'\n",
    "    s = re.sub(r\"\\'t\", \" not\", s)\n",
    "    # Remove @name\n",
    "    s = re.sub(r'(@.*?)[\\s]', ' ', s)\n",
    "    # Isolate and remove punctuations except '?'\n",
    "    s = re.sub(r'([\\'\\\"\\.\\(\\)\\!\\?\\\\\\/\\,])', r' \\1 ', s)\n",
    "    s = re.sub(r'[^\\w\\s\\?]', ' ', s)\n",
    "    # Remove some special characters\n",
    "    s = re.sub(r'([\\;\\:\\|•«\\n])', ' ', s)\n",
    "    # Remove stopwords except 'not' and 'can'\n",
    "    \"\"\"\n",
    "    s = \" \".join([word for word in s.split()\n",
    "                  if word not in stopwords.words('arabic')\n",
    "                  or word in ['not', 'can']])\n",
    "    \"\"\"\n",
    "    # Remove trailing whitespace\n",
    "    s = re.sub(r'\\s+', ' ', s).strip()\n",
    "    \n",
    "    return s\n",
    " "
   ]
  },
  {
   "cell_type": "markdown",
   "metadata": {
    "id": "w8jpfxygCvww"
   },
   "source": [
    "### TF-IDF Vectorizer"
   ]
  },
  {
   "cell_type": "code",
   "execution_count": null,
   "metadata": {
    "colab": {
     "base_uri": "https://localhost:8080/"
    },
    "executionInfo": {
     "elapsed": 74704,
     "status": "ok",
     "timestamp": 1620003177928,
     "user": {
      "displayName": "Essam Dawood",
      "photoUrl": "",
      "userId": "03786510186214300863"
     },
     "user_tz": -180
    },
    "id": "MOQ3X7hPDYhn",
    "outputId": "274388b1-67d8-441d-8040-acf69ab62a0c"
   },
   "outputs": [
    {
     "name": "stdout",
     "output_type": "stream",
     "text": [
      "CPU times: user 11.5 s, sys: 354 ms, total: 11.8 s\n",
      "Wall time: 11.8 s\n"
     ]
    }
   ],
   "source": [
    "%%time\n",
    "from sklearn.feature_extraction.text import TfidfVectorizer\n",
    "\n",
    "# Preprocess text\n",
    "X_train_preprocessed = np.array([text_preprocessing(text) for text in X_train])\n",
    "X_val_preprocessed = np.array([text_preprocessing(text) for text in X_val])\n",
    "\n",
    "# Calculate TF-IDF\n",
    "tf_idf = TfidfVectorizer(ngram_range=(1, 3),\n",
    "                         binary=True,\n",
    "                         smooth_idf=False)\n",
    "X_train_tfidf = tf_idf.fit_transform(X_train_preprocessed)\n",
    "X_val_tfidf = tf_idf.transform(X_val_preprocessed)"
   ]
  },
  {
   "cell_type": "markdown",
   "metadata": {
    "id": "arsEHOKzFxdv"
   },
   "source": [
    "## Train Naive Bayes Classifier"
   ]
  },
  {
   "cell_type": "code",
   "execution_count": null,
   "metadata": {
    "id": "ueXJsrhNGqlS"
   },
   "outputs": [],
   "source": [
    "from sklearn.model_selection import StratifiedKFold, cross_val_score\n",
    "\n",
    "def get_auc_CV(model):\n",
    "    \"\"\"\n",
    "    Return the average AUC score from cross-validation.\n",
    "    \"\"\"\n",
    "    # Set KFold to shuffle data before the split\n",
    "    kf = StratifiedKFold(5, shuffle=True, random_state=1)\n",
    "\n",
    "    # Get AUC scores\n",
    "    auc = cross_val_score(\n",
    "        model, X_train_tfidf, y_train, scoring=\"roc_auc\", cv=kf)\n",
    "\n",
    "    return auc.mean()"
   ]
  },
  {
   "cell_type": "markdown",
   "metadata": {
    "id": "53MgflYPHNxh"
   },
   "source": [
    "The `MultinominalNB` class only have one hypterparameter - **alpha**. The code below will help us find the alpha value that gives us the highest CV AUC score."
   ]
  },
  {
   "cell_type": "code",
   "execution_count": null,
   "metadata": {
    "colab": {
     "base_uri": "https://localhost:8080/",
     "height": 312
    },
    "executionInfo": {
     "elapsed": 149957,
     "status": "ok",
     "timestamp": 1620003253197,
     "user": {
      "displayName": "Essam Dawood",
      "photoUrl": "",
      "userId": "03786510186214300863"
     },
     "user_tz": -180
    },
    "id": "zKatLhhJGzn0",
    "outputId": "270fcf92-4c9b-4eb0-94bb-9da0c4ca949c"
   },
   "outputs": [
    {
     "name": "stdout",
     "output_type": "stream",
     "text": [
      "Best alpha:  1.0\n"
     ]
    },
    {
     "data": {
      "image/png": "[encoded data removed]",
      "text/plain": [
       "<Figure size 432x288 with 1 Axes>"
      ]
     },
     "metadata": {
      "needs_background": "light",
      "tags": []
     },
     "output_type": "display_data"
    }
   ],
   "source": [
    "from sklearn.naive_bayes import MultinomialNB\n",
    "\n",
    "res = pd.Series([get_auc_CV(MultinomialNB(i))\n",
    "                 for i in np.arange(1, 10, 0.1)],\n",
    "                index=np.arange(1, 10, 0.1))\n",
    "\n",
    "best_alpha = np.round(res.idxmax(), 2)\n",
    "print('Best alpha: ', best_alpha)\n",
    "\n",
    "plt.plot(res)\n",
    "plt.title('AUC vs. Alpha')\n",
    "plt.xlabel('Alpha')\n",
    "plt.ylabel('AUC')\n",
    "plt.show()"
   ]
  },
  {
   "cell_type": "markdown",
   "metadata": {
    "id": "JaATcy1nIeE9"
   },
   "source": [
    "### 2.2. Evaluation on Validation Set"
   ]
  },
  {
   "cell_type": "markdown",
   "metadata": {
    "id": "Ne-eoqM4Muna"
   },
   "source": [
    "To evaluate the performance of our model, we will calculate the accuracy rate and the AUC score of our model on the validation set."
   ]
  },
  {
   "cell_type": "code",
   "execution_count": null,
   "metadata": {
    "id": "qS2gb-9mJK2w"
   },
   "outputs": [],
   "source": [
    "from sklearn.metrics import accuracy_score, roc_curve, auc\n",
    "\n",
    "def evaluate_roc(probs, y_true):\n",
    "    \"\"\"\n",
    "    - Print AUC and accuracy on the test set\n",
    "    - Plot ROC\n",
    "    @params    probs (np.array): an array of predicted probabilities with shape (len(y_true), 2)\n",
    "    @params    y_true (np.array): an array of the true values with shape (len(y_true),)\n",
    "    \"\"\"\n",
    "    preds = probs[:, 1]\n",
    "    fpr, tpr, threshold = roc_curve(y_true, preds)\n",
    "    roc_auc = auc(fpr, tpr)\n",
    "    print(f'AUC: {roc_auc:.4f}')\n",
    "       \n",
    "    # Get accuracy over the test set\n",
    "    y_pred = np.where(preds >= 0.5, 1, 0)\n",
    "    accuracy = accuracy_score(y_true, y_pred)\n",
    "    print(f'Accuracy: {accuracy*100:.2f}%')\n",
    "    \n",
    "    # Plot ROC AUC\n",
    "    plt.title('Receiver Operating Characteristic')\n",
    "    plt.plot(fpr, tpr, 'b', label = 'AUC = %0.2f' % roc_auc)\n",
    "    plt.legend(loc = 'lower right')\n",
    "    plt.plot([0, 1], [0, 1],'r--')\n",
    "    plt.xlim([0, 1])\n",
    "    plt.ylim([0, 1])\n",
    "    plt.ylabel('True Positive Rate')\n",
    "    plt.xlabel('False Positive Rate')\n",
    "    plt.show()"
   ]
  },
  {
   "cell_type": "code",
   "execution_count": null,
   "metadata": {
    "colab": {
     "base_uri": "https://localhost:8080/",
     "height": 329
    },
    "executionInfo": {
     "elapsed": 149942,
     "status": "ok",
     "timestamp": 1620003253198,
     "user": {
      "displayName": "Essam Dawood",
      "photoUrl": "",
      "userId": "03786510186214300863"
     },
     "user_tz": -180
    },
    "id": "YwVGbLHLIwpl",
    "outputId": "e023d7f5-8b12-47da-c1f8-9d48082e23e8"
   },
   "outputs": [
    {
     "name": "stdout",
     "output_type": "stream",
     "text": [
      "AUC: 0.9286\n",
      "Accuracy: 83.33%\n"
     ]
    },
    {
     "data": {
      "image/png": "[encoded data removed]",
      "text/plain": [
       "<Figure size 432x288 with 1 Axes>"
      ]
     },
     "metadata": {
      "needs_background": "light",
      "tags": []
     },
     "output_type": "display_data"
    }
   ],
   "source": [
    "# Compute predicted probabilities\n",
    "nb_model = MultinomialNB(alpha=1.8)\n",
    "nb_model.fit(X_train_tfidf, y_train)\n",
    "probs = nb_model.predict_proba(X_val_tfidf)\n",
    "\n",
    "# Evaluate the classifier\n",
    "evaluate_roc(probs, y_val)"
   ]
  },
  {
   "cell_type": "markdown",
   "metadata": {
    "id": "lEPPYHa62JXF"
   },
   "source": [
    "# Fine-tuning BERT"
   ]
  },
  {
   "cell_type": "markdown",
   "metadata": {
    "id": "bYJRzWI73eBJ"
   },
   "source": [
    "## 1. Install the Hugging Face Library"
   ]
  },
  {
   "cell_type": "code",
   "execution_count": null,
   "metadata": {
    "colab": {
     "base_uri": "https://localhost:8080/"
    },
    "executionInfo": {
     "elapsed": 152487,
     "status": "ok",
     "timestamp": 1620003255770,
     "user": {
      "displayName": "Essam Dawood",
      "photoUrl": "",
      "userId": "03786510186214300863"
     },
     "user_tz": -180
    },
    "id": "uFiv8WGl4p40",
    "outputId": "e24730e7-17d6-4d1e-bee3-fe5f936bee25"
   },
   "outputs": [
    {
     "name": "stdout",
     "output_type": "stream",
     "text": [
      "Requirement already satisfied: transformers in /usr/local/lib/python3.7/dist-packages (4.5.1)\n",
      "Requirement already satisfied: sacremoses in /usr/local/lib/python3.7/dist-packages (from transformers) (0.0.45)\n",
      "Requirement already satisfied: packaging in /usr/local/lib/python3.7/dist-packages (from transformers) (20.9)\n",
      "Requirement already satisfied: tokenizers<0.11,>=0.10.1 in /usr/local/lib/python3.7/dist-packages (from transformers) (0.10.2)\n",
      "Requirement already satisfied: filelock in /usr/local/lib/python3.7/dist-packages (from transformers) (3.0.12)\n",
      "Requirement already satisfied: tqdm>=4.27 in /usr/local/lib/python3.7/dist-packages (from transformers) (4.41.1)\n",
      "Requirement already satisfied: numpy>=1.17 in /usr/local/lib/python3.7/dist-packages (from transformers) (1.19.5)\n",
      "Requirement already satisfied: regex!=2019.12.17 in /usr/local/lib/python3.7/dist-packages (from transformers) (2019.12.20)\n",
      "Requirement already satisfied: importlib-metadata; python_version < \"3.8\" in /usr/local/lib/python3.7/dist-packages (from transformers) (3.10.1)\n",
      "Requirement already satisfied: requests in /usr/local/lib/python3.7/dist-packages (from transformers) (2.23.0)\n",
      "Requirement already satisfied: click in /usr/local/lib/python3.7/dist-packages (from sacremoses->transformers) (7.1.2)\n",
      "Requirement already satisfied: joblib in /usr/local/lib/python3.7/dist-packages (from sacremoses->transformers) (1.0.1)\n",
      "Requirement already satisfied: six in /usr/local/lib/python3.7/dist-packages (from sacremoses->transformers) (1.15.0)\n",
      "Requirement already satisfied: pyparsing>=2.0.2 in /usr/local/lib/python3.7/dist-packages (from packaging->transformers) (2.4.7)\n",
      "Requirement already satisfied: typing-extensions>=3.6.4; python_version < \"3.8\" in /usr/local/lib/python3.7/dist-packages (from importlib-metadata; python_version < \"3.8\"->transformers) (3.7.4.3)\n",
      "Requirement already satisfied: zipp>=0.5 in /usr/local/lib/python3.7/dist-packages (from importlib-metadata; python_version < \"3.8\"->transformers) (3.4.1)\n",
      "Requirement already satisfied: idna<3,>=2.5 in /usr/local/lib/python3.7/dist-packages (from requests->transformers) (2.10)\n",
      "Requirement already satisfied: chardet<4,>=3.0.2 in /usr/local/lib/python3.7/dist-packages (from requests->transformers) (3.0.4)\n",
      "Requirement already satisfied: urllib3!=1.25.0,!=1.25.1,<1.26,>=1.21.1 in /usr/local/lib/python3.7/dist-packages (from requests->transformers) (1.24.3)\n",
      "Requirement already satisfied: certifi>=2017.4.17 in /usr/local/lib/python3.7/dist-packages (from requests->transformers) (2020.12.5)\n"
     ]
    }
   ],
   "source": [
    "!pip install transformers"
   ]
  },
  {
   "cell_type": "markdown",
   "metadata": {
    "id": "D4sXctSh4sq0"
   },
   "source": [
    "## 2. Tokenization and Input Formatting"
   ]
  },
  {
   "cell_type": "markdown",
   "metadata": {
    "id": "ygbZpK6qbIYE"
   },
   "source": [
    "Before tokenizing our text, we will perform some slight processing on our text including removing entity mentions (eg. @united) and some special character. The level of processing here is much less than in previous approachs because BERT was trained with the entire sentences."
   ]
  },
  {
   "cell_type": "code",
   "execution_count": null,
   "metadata": {
    "id": "4L_Rc7l4bgzJ"
   },
   "outputs": [],
   "source": [
    "def text_preprocessing(text):\n",
    "    \"\"\"\n",
    "    - Remove entity mentions (eg. '@united')\n",
    "    - Correct errors (eg. '&amp;' to '&')\n",
    "    @param    text (str): a string to be processed.\n",
    "    @return   text (Str): the processed string.\n",
    "    \"\"\"\n",
    "    # Remove '@name'\n",
    "    text = re.sub(r'(@.*?)[\\s]', ' ', text)\n",
    "\n",
    "    # Replace '&amp;' with '&'\n",
    "    text = re.sub(r'&amp;', '&', text)\n",
    "\n",
    "    # Remove trailing whitespace\n",
    "    text = re.sub(r'\\s+', ' ', text).strip()\n",
    "    return text"
   ]
  },
  {
   "cell_type": "markdown",
   "metadata": {
    "id": "i3acv6s95YYr"
   },
   "source": [
    "### 2.1. BERT Tokenizer"
   ]
  },
  {
   "cell_type": "markdown",
   "metadata": {
    "id": "C1fRHtdU5dEn"
   },
   "source": [
    "In order to apply the pre-trained BERT, we must use the tokenizer provided by the library. This is because (1) the model has a specific, fixed vocabulary and (2) the BERT tokenizer has a particular way of handling out-of-vocabulary words.\n",
    "\n",
    "In addition, we are required to add special tokens to the start and end of each sentence, pad & truncate all sentences to a single constant length, and explicitly specify what are padding tokens with the \"attention mask\".\n",
    "\n",
    "The `encode_plus` method of BERT tokenizer will:\n",
    "\n",
    "(1) split our text into tokens,\n",
    "\n",
    "(2) add the special `[CLS]` and `[SEP]` tokens, and\n",
    "\n",
    "(3) convert these tokens into indexes of the tokenizer vocabulary,\n",
    "\n",
    "(4) pad or truncate sentences to max length, and\n",
    "\n",
    "(5) create attention mask.\n",
    "\n",
    "\n",
    "\n",
    "\n"
   ]
  },
  {
   "cell_type": "code",
   "execution_count": null,
   "metadata": {
    "id": "yDAfbCle59tP"
   },
   "outputs": [],
   "source": [
    "from transformers import BertTokenizer\n",
    "\n",
    "\n",
    "# Load the BERT tokenizer\n",
    "tokenizer = BertTokenizer.from_pretrained(pretrained_model, do_lower_case=True)\n",
    "\n",
    "# Create a function to tokenize a set of texts\n",
    "def preprocessing_for_bert(data):\n",
    "    \"\"\"Perform required preprocessing steps for pretrained BERT.\n",
    "    @param    data (np.array): Array of texts to be processed.\n",
    "    @return   input_ids (torch.Tensor): Tensor of token ids to be fed to a model.\n",
    "    @return   attention_masks (torch.Tensor): Tensor of indices specifying which\n",
    "                  tokens should be attended to by the model.\n",
    "    \"\"\"\n",
    "    # Create empty lists to store outputs\n",
    "    input_ids = []\n",
    "    attention_masks = []\n",
    "\n",
    "    # For every sentence...\n",
    "    for sent in data:\n",
    "        # `encode_plus` will:\n",
    "        #    (1) Tokenize the sentence\n",
    "        #    (2) Add the `[CLS]` and `[SEP]` token to the start and end\n",
    "        #    (3) Truncate/Pad sentence to max length\n",
    "        #    (4) Map tokens to their IDs\n",
    "        #    (5) Create attention mask\n",
    "        #    (6) Return a dictionary of outputs\n",
    "        encoded_sent = tokenizer.encode_plus(\n",
    "            text=text_preprocessing(sent),  # Preprocess sentence\n",
    "            add_special_tokens=True,        # Add `[CLS]` and `[SEP]`\n",
    "            max_length=MAX_LEN,                  # Max length to truncate/pad\n",
    "            pad_to_max_length=True,         # Pad sentence to max length\n",
    "            #return_tensors='pt',           # Return PyTorch tensor\n",
    "            return_attention_mask=True      # Return attention mask\n",
    "            )\n",
    "        \n",
    "        # Add the outputs to the lists\n",
    "        input_ids.append(encoded_sent.get('input_ids'))\n",
    "        attention_masks.append(encoded_sent.get('attention_mask'))\n",
    "\n",
    "    # Convert lists to tensors\n",
    "    input_ids = torch.tensor(input_ids)\n",
    "    attention_masks = torch.tensor(attention_masks)\n",
    "\n",
    "    return input_ids, attention_masks"
   ]
  },
  {
   "cell_type": "markdown",
   "metadata": {
    "id": "TNE9oASMZ1bN"
   },
   "source": [
    "Before tokenizing, we need to specify the maximum length of our sentences."
   ]
  },
  {
   "cell_type": "code",
   "execution_count": null,
   "metadata": {
    "colab": {
     "base_uri": "https://localhost:8080/"
    },
    "executionInfo": {
     "elapsed": 183056,
     "status": "ok",
     "timestamp": 1620003286371,
     "user": {
      "displayName": "Essam Dawood",
      "photoUrl": "",
      "userId": "03786510186214300863"
     },
     "user_tz": -180
    },
    "id": "hrbvKGNAlMtt",
    "outputId": "6ef0e449-3508-497b-bd96-9cd7f97ef2e7"
   },
   "outputs": [
    {
     "name": "stdout",
     "output_type": "stream",
     "text": [
      "Max length:  307\n"
     ]
    }
   ],
   "source": [
    "# Concatenate train data and test data\n",
    "all_tweets = np.concatenate([data.body.values, df2.body.values])\n",
    "\n",
    "# Encode our concatenated data\n",
    "encoded_tweets = [tokenizer.encode(sent, add_special_tokens=True) for sent in all_tweets]\n",
    "\n",
    "# Find the maximum length\n",
    "max_len = max([len(sent) for sent in encoded_tweets])\n",
    "print('Max length: ', max_len)"
   ]
  },
  {
   "cell_type": "markdown",
   "metadata": {
    "id": "vpdjBB9fmbu2"
   },
   "source": [
    "Now let's tokenize our data."
   ]
  },
  {
   "cell_type": "code",
   "execution_count": null,
   "metadata": {
    "colab": {
     "base_uri": "https://localhost:8080/"
    },
    "executionInfo": {
     "elapsed": 214455,
     "status": "ok",
     "timestamp": 1620003317780,
     "user": {
      "displayName": "Essam Dawood",
      "photoUrl": "",
      "userId": "03786510186214300863"
     },
     "user_tz": -180
    },
    "id": "QTlQzTzAfCy7",
    "outputId": "4b31ee87-6a20-40ed-b40f-a597dc64de23"
   },
   "outputs": [
    {
     "name": "stderr",
     "output_type": "stream",
     "text": [
      "Truncation was not explicitly activated but `max_length` is provided a specific value, please use `truncation=True` to explicitly truncate examples to max length. Defaulting to 'longest_first' truncation strategy. If you encode pairs of sequences (GLUE-style) with the tokenizer you can select this strategy more precisely by providing a specific strategy to `truncation`.\n"
     ]
    },
    {
     "name": "stdout",
     "output_type": "stream",
     "text": [
      "Token IDs:  [2, 15722, 1917, 19211, 2337, 76, 22796, 1047, 3046, 8040, 9244, 4076, 6293, 9244, 3, 0, 0, 0, 0, 0, 0, 0, 0, 0, 0, 0, 0, 0, 0, 0, 0, 0, 0, 0, 0, 0, 0, 0, 0, 0, 0, 0, 0, 0, 0, 0, 0, 0, 0, 0, 0, 0, 0, 0, 0, 0, 0, 0, 0, 0, 0, 0, 0, 0, 0, 0, 0, 0, 0, 0, 0, 0, 0, 0, 0, 0, 0, 0, 0, 0, 0, 0, 0, 0, 0, 0, 0, 0, 0, 0, 0, 0, 0, 0, 0, 0, 0, 0, 0, 0, 0, 0, 0, 0, 0, 0, 0, 0, 0, 0, 0, 0, 0, 0, 0, 0, 0, 0, 0, 0, 0, 0, 0, 0, 0, 0, 0, 0, 0, 0, 0, 0, 0, 0, 0, 0, 0, 0, 0, 0, 0, 0, 0, 0, 0, 0, 0, 0, 0, 0, 0, 0, 0, 0, 0, 0, 0, 0, 0, 0, 0, 0, 0, 0, 0, 0, 0, 0, 0, 0, 0, 0, 0, 0, 0, 0, 0, 0, 0, 0, 0, 0, 0, 0, 0, 0, 0, 0, 0, 0, 0, 0, 0, 0, 0, 0, 0, 0, 0, 0, 0, 0, 0, 0, 0, 0, 0, 0, 0, 0, 0, 0, 0, 0, 0, 0, 0, 0, 0, 0, 0, 0, 0, 0, 0, 0, 0, 0, 0, 0, 0, 0, 0, 0, 0, 0, 0, 0, 0, 0, 0, 0, 0, 0, 0, 0, 0, 0, 0, 0, 0, 0, 0, 0, 0, 0, 0, 0, 0, 0, 0, 0, 0, 0, 0, 0, 0, 0, 0, 0, 0, 0, 0, 0, 0, 0, 0, 0, 0, 0, 0, 0, 0, 0, 0, 0, 0, 0, 0, 0, 0, 0, 0, 0, 0, 0, 0, 0, 0, 0, 0, 0, 0, 0, 0, 0, 0]\n",
      "Tokenizing data...\n"
     ]
    }
   ],
   "source": [
    "# Specify `MAX_LEN`\n",
    "MAX_LEN =max_len   # 64\n",
    "\n",
    "#X = data.body.values\n",
    "\n",
    "# Print sentence 0 and its encoded token ids\n",
    "token_ids = list(preprocessing_for_bert([X[0]])[0].squeeze().numpy())\n",
    "#print('Original: ', X[0])\n",
    "print('Token IDs: ', token_ids)\n",
    "\n",
    "# Run function `preprocessing_for_bert` on the train set and the validation set\n",
    "print('Tokenizing data...')\n",
    "train_inputs, train_masks = preprocessing_for_bert(X_train)\n",
    "val_inputs, val_masks = preprocessing_for_bert(X_val)"
   ]
  },
  {
   "cell_type": "markdown",
   "metadata": {
    "id": "aZU8t5VNfvhY"
   },
   "source": [
    "### 2.2. Create PyTorch DataLoader"
   ]
  },
  {
   "cell_type": "markdown",
   "metadata": {
    "id": "aoHdl3gFgMZY"
   },
   "source": [
    "We will create an iterator for our dataset using the torch DataLoader class. This will help save on memory during training and boost the training speed."
   ]
  },
  {
   "cell_type": "code",
   "execution_count": null,
   "metadata": {
    "id": "xHuYEc61gcGL"
   },
   "outputs": [],
   "source": [
    "from torch.utils.data import TensorDataset, DataLoader, RandomSampler, SequentialSampler\n",
    "\n",
    "# Convert other data types to torch.Tensor\n",
    "train_labels = torch.tensor(np.array(y_train))\n",
    "val_labels = torch.tensor(np.array(y_val))\n",
    "\n",
    "# For fine-tuning BERT, the authors recommend a batch size of 16 or 32.\n",
    "batch_size = 32\n",
    "\n",
    "# Create the DataLoader for our training set\n",
    "train_data = TensorDataset(train_inputs, train_masks, train_labels)\n",
    "train_sampler = RandomSampler(train_data)\n",
    "train_dataloader = DataLoader(train_data, sampler=train_sampler, batch_size=batch_size)\n",
    "\n",
    "# Create the DataLoader for our validation set\n",
    "val_data = TensorDataset(val_inputs, val_masks, val_labels)\n",
    "val_sampler = SequentialSampler(val_data)\n",
    "val_dataloader = DataLoader(val_data, sampler=val_sampler, batch_size=batch_size)"
   ]
  },
  {
   "cell_type": "markdown",
   "metadata": {
    "id": "SSRAga-yj17q"
   },
   "source": [
    "## Train Our Model"
   ]
  },
  {
   "cell_type": "markdown",
   "metadata": {
    "id": "KoOdsDgG8b_Z"
   },
   "source": [
    "### Create BertClassifier"
   ]
  },
  {
   "cell_type": "code",
   "execution_count": null,
   "metadata": {
    "colab": {
     "base_uri": "https://localhost:8080/"
    },
    "executionInfo": {
     "elapsed": 214442,
     "status": "ok",
     "timestamp": 1620003317782,
     "user": {
      "displayName": "Essam Dawood",
      "photoUrl": "",
      "userId": "03786510186214300863"
     },
     "user_tz": -180
    },
    "id": "YK41aBFSj5jK",
    "outputId": "9ac69657-ae6d-44ef-8eb1-b12ae2884b18"
   },
   "outputs": [
    {
     "name": "stdout",
     "output_type": "stream",
     "text": [
      "CPU times: user 23.7 ms, sys: 2.57 ms, total: 26.2 ms\n",
      "Wall time: 27.2 ms\n"
     ]
    }
   ],
   "source": [
    "%%time\n",
    "import torch\n",
    "import torch.nn as nn\n",
    "from transformers import BertModel\n",
    "\n",
    "# Create the BertClassfier class\n",
    "class BertClassifier(nn.Module):\n",
    "    \"\"\"Bert Model for Classification Tasks.\n",
    "    \"\"\"\n",
    "    def __init__(self, freeze_bert=False):\n",
    "        \"\"\"\n",
    "        @param    bert: a BertModel object\n",
    "        @param    classifier: a torch.nn.Module classifier\n",
    "        @param    freeze_bert (bool): Set `False` to fine-tune the BERT model\n",
    "        \"\"\"\n",
    "        super(BertClassifier, self).__init__()\n",
    "        # Specify hidden size of BERT, hidden size of our classifier, and number of labels\n",
    "        D_in, H, D_out = 768, 50, 2\n",
    "\n",
    "        # Instantiate BERT model\n",
    "        self.bert = BertModel.from_pretrained(pretrained_model)\n",
    "\n",
    "        # Instantiate an one-layer feed-forward classifier\n",
    "        self.classifier = nn.Sequential(\n",
    "            nn.Linear(D_in, H),\n",
    "            nn.ReLU(),\n",
    "            #nn.Dropout(0.5),\n",
    "            nn.Linear(H, D_out)\n",
    "        )\n",
    "\n",
    "        # Freeze the BERT model\n",
    "        if freeze_bert:\n",
    "            for param in self.bert.parameters():\n",
    "                param.requires_grad = False\n",
    "        \n",
    "    def forward(self, input_ids, attention_mask):\n",
    "        \"\"\"\n",
    "        Feed input to BERT and the classifier to compute logits.\n",
    "        @param    input_ids (torch.Tensor): an input tensor with shape (batch_size,\n",
    "                      max_length)\n",
    "        @param    attention_mask (torch.Tensor): a tensor that hold attention mask\n",
    "                      information with shape (batch_size, max_length)\n",
    "        @return   logits (torch.Tensor): an output tensor with shape (batch_size,\n",
    "                      num_labels)\n",
    "        \"\"\"\n",
    "        # Feed input to BERT\n",
    "        outputs = self.bert(input_ids=input_ids,\n",
    "                            attention_mask=attention_mask)\n",
    "        \n",
    "        # Extract the last hidden state of the token `[CLS]` for classification task\n",
    "        last_hidden_state_cls = outputs[0][:, 0, :]\n",
    "\n",
    "        # Feed input to classifier to compute logits\n",
    "        logits = self.classifier(last_hidden_state_cls)\n",
    "        #print(logits)\n",
    "        return logits"
   ]
  },
  {
   "cell_type": "markdown",
   "metadata": {
    "id": "LwNrCgPh-yR7"
   },
   "source": [
    "### 3.2. Optimizer & Learning Rate Scheduler"
   ]
  },
  {
   "cell_type": "markdown",
   "metadata": {
    "id": "V6iOXiN8-8gc"
   },
   "source": [
    "To fine-tune our Bert Classifier, we need to create an optimizer. The authors recommend following hyper-parameters:\n",
    "\n",
    "- Batch size: 16 or 32\n",
    "- Learning rate (Adam): 5e-5, 3e-5 or 2e-5\n",
    "- Number of epochs: 2, 3, 4\n",
    "\n",
    "Huggingface provided the [run_glue.py](https://github.com/huggingface/transformers/blob/5bfcd0485ece086ebcbed2d008813037968a9e58/examples/run_glue.py#L109) script, an examples of implementing the `transformers` library. In the script, the AdamW optimizer is used."
   ]
  },
  {
   "cell_type": "code",
   "execution_count": null,
   "metadata": {
    "id": "JX7su7Q_269U"
   },
   "outputs": [],
   "source": [
    "from transformers import AdamW, get_linear_schedule_with_warmup\n",
    "\n",
    "def initialize_model(epochs=4):\n",
    "    \"\"\"Initialize the Bert Classifier, the optimizer and the learning rate scheduler.\n",
    "    \"\"\"\n",
    "    # Instantiate Bert Classifier\n",
    "    bert_classifier = BertClassifier(freeze_bert=False)\n",
    "\n",
    "    # Tell PyTorch to run the model on GPU\n",
    "    bert_classifier.to(device)\n",
    "\n",
    "    # Create the optimizer\n",
    "    optimizer = AdamW(bert_classifier.parameters(),\n",
    "                      lr=5e-5,    # Default learning rate\n",
    "                      eps=1e-8    # Default epsilon value\n",
    "                      )\n",
    "\n",
    "    # Total number of training steps\n",
    "    total_steps = len(train_dataloader) * epochs\n",
    "\n",
    "    # Set up the learning rate scheduler\n",
    "    scheduler = get_linear_schedule_with_warmup(optimizer,\n",
    "                                                num_warmup_steps=0, # Default value\n",
    "                                                num_training_steps=total_steps)\n",
    "    return bert_classifier, optimizer, scheduler"
   ]
  },
  {
   "cell_type": "markdown",
   "metadata": {
    "id": "41DRNjv4B0Ow"
   },
   "source": [
    "### 3.3. Training Loop"
   ]
  },
  {
   "cell_type": "markdown",
   "metadata": {
    "id": "VYU-GQRZG0y8"
   },
   "source": [
    "We will train our Bert Classifier for 4 epochs. In each epoch, we will train our model and evaluate its performance on the validation set. In more details, we will:\n",
    "\n",
    "Training:\n",
    "- Unpack our data from the dataloader and load the data onto the GPU\n",
    "- Zero out gradients calculated in the previous pass\n",
    "- Perform a forward pass to compute logits and loss\n",
    "- Perform a backward pass to compute gradients (`loss.backward()`)\n",
    "- Clip the norm of the gradients to 1.0 to prevent \"exploding gradients\"\n",
    "- Update the model's parameters (`optimizer.step()`)\n",
    "- Update the learning rate (`scheduler.step()`)\n",
    "\n",
    "Evaluation:\n",
    "- Unpack our data and load onto the GPU\n",
    "- Forward pass\n",
    "- Compute loss and accuracy rate over the validation set\n",
    "\n",
    "The script below is commented with the details of our training and evaluation loop. "
   ]
  },
  {
   "cell_type": "code",
   "execution_count": null,
   "metadata": {
    "id": "Xy4HkhyECibW"
   },
   "outputs": [],
   "source": [
    "import random\n",
    "import time\n",
    "\n",
    "# Specify loss function\n",
    "loss_fn = nn.CrossEntropyLoss()\n",
    "\n",
    "def set_seed(seed_value=42):\n",
    "    \"\"\"Set seed for reproducibility.\n",
    "    \"\"\"\n",
    "    random.seed(seed_value)\n",
    "    np.random.seed(seed_value)\n",
    "    torch.manual_seed(seed_value)\n",
    "    torch.cuda.manual_seed_all(seed_value)\n",
    "\n",
    "def train(model, train_dataloader, val_dataloader=None, epochs=4, evaluation=False):\n",
    "    \"\"\"Train the BertClassifier model.\n",
    "    \"\"\"\n",
    "    # Start training loop\n",
    "    print(\"Start training...\\n\")\n",
    "    for epoch_i in range(epochs):\n",
    "        # =======================================\n",
    "        #               Training\n",
    "        # =======================================\n",
    "        # Print the header of the result table\n",
    "        print(f\"{'Epoch':^7} | {'Batch':^7} | {'Train Loss':^12} | {'Val Loss':^10} | {'Val Acc':^9} | {'Elapsed':^9}\")\n",
    "        print(\"-\"*70)\n",
    "\n",
    "        # Measure the elapsed time of each epoch\n",
    "        t0_epoch, t0_batch = time.time(), time.time()\n",
    "\n",
    "        # Reset tracking variables at the beginning of each epoch\n",
    "        total_loss, batch_loss, batch_counts = 0, 0, 0\n",
    "\n",
    "        # Put the model into the training mode\n",
    "        model.train()\n",
    "\n",
    "        # For each batch of training data...\n",
    "        for step, batch in enumerate(train_dataloader):\n",
    "            batch_counts +=1\n",
    "            # Load batch to GPU\n",
    "            b_input_ids, b_attn_mask, b_labels = tuple(t.to(device) for t in batch)\n",
    "\n",
    "            # Zero out any previously calculated gradients\n",
    "            model.zero_grad()\n",
    "\n",
    "            # Perform a forward pass. This will return logits.\n",
    "            logits = model(b_input_ids, b_attn_mask)\n",
    "            #print(type(logits))\n",
    "            #print(len(logits))\n",
    "            #print(logits)\n",
    "            # Compute loss and accumulate the loss values\n",
    "            loss = loss_fn(logits, b_labels)\n",
    "            batch_loss += loss.item()\n",
    "            total_loss += loss.item()\n",
    "\n",
    "            # Perform a backward pass to calculate gradients\n",
    "            loss.backward()\n",
    "\n",
    "            # Clip the norm of the gradients to 1.0 to prevent \"exploding gradients\"\n",
    "            torch.nn.utils.clip_grad_norm_(model.parameters(), 1.0)\n",
    "\n",
    "            # Update parameters and the learning rate\n",
    "            optimizer.step()\n",
    "            scheduler.step()\n",
    "\n",
    "            # Print the loss values and time elapsed for every 20 batches\n",
    "            if (step % 20 == 0 and step != 0) or (step == len(train_dataloader) - 1):\n",
    "                # Calculate time elapsed for 20 batches\n",
    "                time_elapsed = time.time() - t0_batch\n",
    "\n",
    "                # Print training results\n",
    "                print(f\"{epoch_i + 1:^7} | {step:^7} | {batch_loss / batch_counts:^12.6f} | {'-':^10} | {'-':^9} | {time_elapsed:^9.2f}\")\n",
    "\n",
    "                # Reset batch tracking variables\n",
    "                batch_loss, batch_counts = 0, 0\n",
    "                t0_batch = time.time()\n",
    "\n",
    "        # Calculate the average loss over the entire training data\n",
    "        avg_train_loss = total_loss / len(train_dataloader)\n",
    "\n",
    "        print(\"-\"*70)\n",
    "        # =======================================\n",
    "        #               Evaluation\n",
    "        # =======================================\n",
    "        if evaluation == True:\n",
    "            # After the completion of each training epoch, measure the model's performance\n",
    "            # on our validation set.\n",
    "            val_loss, val_accuracy = evaluate(model, val_dataloader)\n",
    "\n",
    "            # Print performance over the entire training data\n",
    "            time_elapsed = time.time() - t0_epoch\n",
    "            \n",
    "            print(f\"{epoch_i + 1:^7} | {'-':^7} | {avg_train_loss:^12.6f} | {val_loss:^10.6f} | {val_accuracy:^9.2f} | {time_elapsed:^9.2f}\")\n",
    "            print(\"-\"*70)\n",
    "        print(\"\\n\")\n",
    "    \n",
    "    print(\"Training complete!\")\n",
    "\n",
    "\n",
    "def evaluate(model, val_dataloader):\n",
    "    \"\"\"After the completion of each training epoch, measure the model's performance\n",
    "    on our validation set.\n",
    "    \"\"\"\n",
    "    # Put the model into the evaluation mode. The dropout layers are disabled during\n",
    "    # the test time.\n",
    "    model.eval()\n",
    "\n",
    "    # Tracking variables\n",
    "    val_accuracy = []\n",
    "    val_loss = []\n",
    "\n",
    "    # For each batch in our validation set...\n",
    "    for batch in val_dataloader:\n",
    "        # Load batch to GPU\n",
    "        b_input_ids, b_attn_mask, b_labels = tuple(t.to(device) for t in batch)\n",
    "\n",
    "        # Compute logits\n",
    "        with torch.no_grad():\n",
    "            logits = model(b_input_ids, b_attn_mask)\n",
    "\n",
    "        # Compute loss\n",
    "        loss = loss_fn(logits, b_labels)\n",
    "        val_loss.append(loss.item())\n",
    "\n",
    "        # Get the predictions\n",
    "        preds = torch.argmax(logits, dim=1).flatten()\n",
    "\n",
    "        # Calculate the accuracy rate\n",
    "        accuracy = (preds == b_labels).cpu().numpy().mean() * 100\n",
    "        val_accuracy.append(accuracy)\n",
    "\n",
    "    # Compute the average accuracy and loss over the validation set.\n",
    "    val_loss = np.mean(val_loss)\n",
    "    val_accuracy = np.mean(val_accuracy)\n",
    "\n",
    "    return val_loss, val_accuracy"
   ]
  },
  {
   "cell_type": "markdown",
   "metadata": {
    "id": "BSfTy9LqiFD-"
   },
   "source": [
    "Now, let's start training our BertClassifier!"
   ]
  },
  {
   "cell_type": "code",
   "execution_count": null,
   "metadata": {
    "colab": {
     "base_uri": "https://localhost:8080/"
    },
    "executionInfo": {
     "elapsed": 1290057,
     "status": "ok",
     "timestamp": 1620004393416,
     "user": {
      "displayName": "Essam Dawood",
      "photoUrl": "",
      "userId": "03786510186214300863"
     },
     "user_tz": -180
    },
    "id": "wfYw7dJ0U0v6",
    "outputId": "e990c8b9-6526-4cba-fa59-63b1f45cad58"
   },
   "outputs": [
    {
     "name": "stdout",
     "output_type": "stream",
     "text": [
      "Start training...\n",
      "\n",
      " Epoch  |  Batch  |  Train Loss  |  Val Loss  |  Val Acc  |  Elapsed \n",
      "----------------------------------------------------------------------\n",
      "   1    |   20    |   0.438957   |     -      |     -     |   20.06  \n",
      "   1    |   40    |   0.297225   |     -      |     -     |   19.08  \n",
      "   1    |   60    |   0.272035   |     -      |     -     |   19.03  \n",
      "   1    |   80    |   0.226807   |     -      |     -     |   19.05  \n",
      "   1    |   100   |   0.253033   |     -      |     -     |   19.07  \n",
      "   1    |   120   |   0.256002   |     -      |     -     |   19.06  \n",
      "   1    |   140   |   0.169863   |     -      |     -     |   19.05  \n",
      "   1    |   160   |   0.222502   |     -      |     -     |   19.04  \n",
      "   1    |   180   |   0.208579   |     -      |     -     |   19.05  \n",
      "   1    |   200   |   0.222163   |     -      |     -     |   19.05  \n",
      "   1    |   220   |   0.251849   |     -      |     -     |   19.04  \n",
      "   1    |   240   |   0.194442   |     -      |     -     |   19.03  \n",
      "   1    |   260   |   0.126685   |     -      |     -     |   19.05  \n",
      "   1    |   280   |   0.193272   |     -      |     -     |   19.04  \n",
      "   1    |   300   |   0.174214   |     -      |     -     |   19.03  \n",
      "   1    |   320   |   0.184472   |     -      |     -     |   19.07  \n",
      "   1    |   340   |   0.152570   |     -      |     -     |   19.06  \n",
      "   1    |   360   |   0.166182   |     -      |     -     |   19.02  \n",
      "   1    |   380   |   0.196403   |     -      |     -     |   19.03  \n",
      "   1    |   400   |   0.132673   |     -      |     -     |   19.02  \n",
      "   1    |   420   |   0.146796   |     -      |     -     |   19.04  \n",
      "   1    |   440   |   0.147824   |     -      |     -     |   19.07  \n",
      "   1    |   460   |   0.149167   |     -      |     -     |   19.05  \n",
      "   1    |   480   |   0.168497   |     -      |     -     |   19.04  \n",
      "   1    |   500   |   0.158995   |     -      |     -     |   19.02  \n",
      "   1    |   520   |   0.128952   |     -      |     -     |   19.04  \n",
      "   1    |   540   |   0.152229   |     -      |     -     |   19.05  \n",
      "   1    |   560   |   0.146858   |     -      |     -     |   19.06  \n",
      "   1    |   580   |   0.162267   |     -      |     -     |   19.03  \n",
      "   1    |   600   |   0.138290   |     -      |     -     |   19.06  \n",
      "   1    |   620   |   0.165046   |     -      |     -     |   19.04  \n",
      "   1    |   640   |   0.135139   |     -      |     -     |   19.00  \n",
      "   1    |   660   |   0.096989   |     -      |     -     |   19.03  \n",
      "   1    |   680   |   0.148181   |     -      |     -     |   19.02  \n",
      "   1    |   700   |   0.153128   |     -      |     -     |   19.05  \n",
      "   1    |   720   |   0.161392   |     -      |     -     |   19.05  \n",
      "   1    |   740   |   0.103301   |     -      |     -     |   19.02  \n",
      "   1    |   760   |   0.144618   |     -      |     -     |   19.03  \n",
      "   1    |   780   |   0.121456   |     -      |     -     |   19.03  \n",
      "   1    |   800   |   0.105696   |     -      |     -     |   19.03  \n",
      "   1    |   820   |   0.178790   |     -      |     -     |   19.03  \n",
      "   1    |   840   |   0.160226   |     -      |     -     |   19.02  \n",
      "   1    |   860   |   0.148461   |     -      |     -     |   19.06  \n",
      "   1    |   880   |   0.100657   |     -      |     -     |   19.06  \n",
      "   1    |   900   |   0.155191   |     -      |     -     |   19.02  \n",
      "   1    |   920   |   0.087031   |     -      |     -     |   19.03  \n",
      "   1    |   940   |   0.135045   |     -      |     -     |   19.03  \n",
      "   1    |   960   |   0.114456   |     -      |     -     |   19.06  \n",
      "   1    |   980   |   0.120844   |     -      |     -     |   19.04  \n",
      "   1    |  1000   |   0.115168   |     -      |     -     |   19.03  \n",
      "   1    |  1020   |   0.145558   |     -      |     -     |   19.04  \n",
      "   1    |  1040   |   0.143570   |     -      |     -     |   19.05  \n",
      "   1    |  1060   |   0.110678   |     -      |     -     |   19.03  \n",
      "   1    |  1080   |   0.120857   |     -      |     -     |   19.04  \n",
      "   1    |  1100   |   0.130242   |     -      |     -     |   19.05  \n",
      "   1    |  1120   |   0.119429   |     -      |     -     |   19.03  \n",
      "   1    |  1121   |   0.125134   |     -      |     -     |   0.84   \n",
      "----------------------------------------------------------------------\n",
      "   1    |    -    |   0.165582   |  0.080835  |   96.88   |  1068.53 \n",
      "----------------------------------------------------------------------\n",
      "\n",
      "\n",
      "Training complete!\n"
     ]
    }
   ],
   "source": [
    "set_seed(42)    # Set seed for reproducibility\n",
    "bert_classifier, optimizer, scheduler = initialize_model(epochs=epoch_bert)\n",
    "train(bert_classifier, train_dataloader, val_dataloader, epochs=epoch_bert, evaluation=True)"
   ]
  },
  {
   "cell_type": "markdown",
   "metadata": {
    "id": "D5ostg9kPlra"
   },
   "source": [
    "\n",
    "### Evaluation on Validation Set"
   ]
  },
  {
   "cell_type": "markdown",
   "metadata": {
    "id": "fIlSTDA7Z9DF"
   },
   "source": [
    "The prediction step is similar to the evaluation step that we did in the training loop, but simpler. We will perform a forward pass to compute logits and apply softmax to calculate probabilities."
   ]
  },
  {
   "cell_type": "code",
   "execution_count": null,
   "metadata": {
    "id": "V5_w4erqGzpe"
   },
   "outputs": [],
   "source": [
    "import torch.nn.functional as F\n",
    "\n",
    "def bert_predict(model, test_dataloader):\n",
    "    \"\"\"Perform a forward pass on the trained BERT model to predict probabilities\n",
    "    on the test set.\n",
    "    \"\"\"\n",
    "    # Put the model into the evaluation mode. The dropout layers are disabled during\n",
    "    # the test time.\n",
    "    model.eval()\n",
    "\n",
    "    all_logits = []\n",
    "\n",
    "    # For each batch in our test set...\n",
    "    for batch in test_dataloader:\n",
    "        # Load batch to GPU\n",
    "        b_input_ids, b_attn_mask = tuple(t.to(device) for t in batch)[:2]\n",
    "\n",
    "        # Compute logits\n",
    "        with torch.no_grad():\n",
    "            logits = model(b_input_ids, b_attn_mask)\n",
    "        all_logits.append(logits)\n",
    "    \n",
    "    # Concatenate logits from each batch\n",
    "    all_logits = torch.cat(all_logits, dim=0)\n",
    "\n",
    "    # Apply softmax to calculate probabilities\n",
    "    probs = F.softmax(all_logits, dim=1).cpu().numpy()\n",
    "\n",
    "    return probs"
   ]
  },
  {
   "cell_type": "code",
   "execution_count": null,
   "metadata": {
    "colab": {
     "base_uri": "https://localhost:8080/",
     "height": 329
    },
    "executionInfo": {
     "elapsed": 1290941,
     "status": "ok",
     "timestamp": 1620004394324,
     "user": {
      "displayName": "Essam Dawood",
      "photoUrl": "",
      "userId": "03786510186214300863"
     },
     "user_tz": -180
    },
    "id": "kcmj5s0eRMUh",
    "outputId": "a6003880-647b-4423-aff3-9565d2dff04c"
   },
   "outputs": [
    {
     "name": "stdout",
     "output_type": "stream",
     "text": [
      "AUC: 0.9821\n",
      "Accuracy: 94.44%\n"
     ]
    },
    {
     "data": {
      "image/png": "[encoded data removed]",
      "text/plain": [
       "<Figure size 432x288 with 1 Axes>"
      ]
     },
     "metadata": {
      "needs_background": "light",
      "tags": []
     },
     "output_type": "display_data"
    }
   ],
   "source": [
    "# Compute predicted probabilities on the test set\n",
    "probs = bert_predict(bert_classifier, val_dataloader)\n",
    "\n",
    "# Evaluate the Bert classifier\n",
    "evaluate_roc(probs, y_val)"
   ]
  },
  {
   "cell_type": "code",
   "execution_count": null,
   "metadata": {
    "colab": {
     "base_uri": "https://localhost:8080/"
    },
    "executionInfo": {
     "elapsed": 1290933,
     "status": "ok",
     "timestamp": 1620004394325,
     "user": {
      "displayName": "Essam Dawood",
      "photoUrl": "",
      "userId": "03786510186214300863"
     },
     "user_tz": -180
    },
    "id": "7hPzLo3G2osD",
    "outputId": "272eb30d-b046-4fc1-ea18-358dfb9ba65d"
   },
   "outputs": [
    {
     "name": "stdout",
     "output_type": "stream",
     "text": [
      "              precision    recall  f1-score   support\n",
      "\n",
      "           0       0.96      0.96      0.96        28\n",
      "           1       0.88      0.88      0.88         8\n",
      "\n",
      "    accuracy                           0.94        36\n",
      "   macro avg       0.92      0.92      0.92        36\n",
      "weighted avg       0.94      0.94      0.94        36\n",
      "\n"
     ]
    }
   ],
   "source": [
    "predictions=[0 if x[0]>x[1] else 1 for x in probs]\n",
    "\n",
    "print(classification_report(y_val,predictions))"
   ]
  },
  {
   "cell_type": "markdown",
   "metadata": {
    "id": "G5DW6grRmfT-"
   },
   "source": [
    "### Train Our Model on the Entire Training Data"
   ]
  },
  {
   "cell_type": "markdown",
   "metadata": {
    "id": "q89oT0n3N0m6"
   },
   "source": [
    "## Predictions on Test Set"
   ]
  },
  {
   "cell_type": "markdown",
   "metadata": {
    "id": "Sqk_CPwjN_W0"
   },
   "source": [
    "### Data Preparation"
   ]
  },
  {
   "cell_type": "code",
   "execution_count": null,
   "metadata": {
    "colab": {
     "base_uri": "https://localhost:8080/"
    },
    "executionInfo": {
     "elapsed": 1290914,
     "status": "ok",
     "timestamp": 1620004394326,
     "user": {
      "displayName": "Essam Dawood",
      "photoUrl": "",
      "userId": "03786510186214300863"
     },
     "user_tz": -180
    },
    "id": "MaPBmrFBO-uQ",
    "outputId": "16c19717-b2cd-4fd8-f62b-7194f2730932"
   },
   "outputs": [
    {
     "data": {
      "text/plain": [
       "2295    اشكال تسريحات غرف نوم ارقامتسريحات غرف نوم كلا...\n",
       "1421    شركه تسليك المجاري بالقطيف ارقام افضل شركات تس...\n",
       "1057                      عيون باز باز يجمعنا انا علي باز\n",
       "211     المقطع ده مش بيثبت غير انه الراجل الي في الفيد...\n",
       "2192    عاجل مثل حركه حماس في ايران خالد القدومي لن يك...\n",
       "Name: body, dtype: object"
      ]
     },
     "execution_count": 34,
     "metadata": {
      "tags": []
     },
     "output_type": "execute_result"
    }
   ],
   "source": [
    "test_data.sample(5)"
   ]
  },
  {
   "cell_type": "code",
   "execution_count": null,
   "metadata": {
    "colab": {
     "base_uri": "https://localhost:8080/"
    },
    "executionInfo": {
     "elapsed": 1293135,
     "status": "ok",
     "timestamp": 1620004396556,
     "user": {
      "displayName": "Essam Dawood",
      "photoUrl": "",
      "userId": "03786510186214300863"
     },
     "user_tz": -180
    },
    "id": "56QTDchdOHBL",
    "outputId": "e79d106c-37c2-4634-bb76-40c4e8fc0db3"
   },
   "outputs": [
    {
     "name": "stdout",
     "output_type": "stream",
     "text": [
      "Tokenizing data...\n"
     ]
    }
   ],
   "source": [
    "# Run `preprocessing_for_bert` on the test set\n",
    "print('Tokenizing data...')\n",
    "test_inputs, test_masks = preprocessing_for_bert(df2.body)\n",
    "\n",
    "# Create the DataLoader for our test set\n",
    "test_dataset = TensorDataset(test_inputs, test_masks)\n",
    "test_sampler = SequentialSampler(test_dataset)\n",
    "test_dataloader = DataLoader(test_dataset, sampler=test_sampler, batch_size=32)"
   ]
  },
  {
   "cell_type": "markdown",
   "metadata": {
    "id": "pYv9lSXsQCZ2"
   },
   "source": [
    "### 4.2. Predictions"
   ]
  },
  {
   "cell_type": "code",
   "execution_count": null,
   "metadata": {
    "id": "hineEWHx71om"
   },
   "outputs": [],
   "source": [
    "# Compute predicted probabilities on the test set\n",
    "probs = bert_predict(bert_classifier, test_dataloader)\n"
   ]
  },
  {
   "cell_type": "code",
   "execution_count": null,
   "metadata": {
    "colab": {
     "base_uri": "https://localhost:8080/"
    },
    "executionInfo": {
     "elapsed": 1319273,
     "status": "ok",
     "timestamp": 1620004422708,
     "user": {
      "displayName": "Essam Dawood",
      "photoUrl": "",
      "userId": "03786510186214300863"
     },
     "user_tz": -180
    },
    "id": "tGx8h7yXRkfI",
    "outputId": "6a9561cd-3c29-44f4-f15a-75c2ab391561"
   },
   "outputs": [
    {
     "name": "stdout",
     "output_type": "stream",
     "text": [
      "Number of tweets predicted non-negative:  113\n"
     ]
    }
   ],
   "source": [
    "\n",
    "\n",
    "# Get predictions from the probabilities\n",
    "threshold = 0.5\n",
    "preds2 = np.where(probs[:, 1] > threshold, 1, 0)\n",
    "\n",
    "# Number of tweets predicted non-negative\n",
    "print(\"Number of tweets predicted non-negative: \", preds2.sum())"
   ]
  },
  {
   "cell_type": "code",
   "execution_count": null,
   "metadata": {
    "colab": {
     "base_uri": "https://localhost:8080/"
    },
    "executionInfo": {
     "elapsed": 1319265,
     "status": "ok",
     "timestamp": 1620004422708,
     "user": {
      "displayName": "Essam Dawood",
      "photoUrl": "",
      "userId": "03786510186214300863"
     },
     "user_tz": -180
    },
    "id": "AGjXg3tA7Y0W",
    "outputId": "43bd0da5-2cb8-441d-da2b-3923c1983c14"
   },
   "outputs": [
    {
     "name": "stdout",
     "output_type": "stream",
     "text": [
      "              precision    recall  f1-score   support\n",
      "\n",
      "           0       0.90      0.99      0.94      2298\n",
      "           1       0.81      0.27      0.41       337\n",
      "\n",
      "    accuracy                           0.90      2635\n",
      "   macro avg       0.86      0.63      0.68      2635\n",
      "weighted avg       0.89      0.90      0.88      2635\n",
      "\n"
     ]
    }
   ],
   "source": [
    "predictions=[0 if x[0]>x[1] else 1 for x in probs]\n",
    "\n",
    "print(classification_report(df2.factual_tag.values,predictions))"
   ]
  }
 ],
 "metadata": {
  "accelerator": "GPU",
  "colab": {
   "collapsed_sections": [],
   "name": "Fine Tune BERT-for-Arabic Classification.ipynb",
   "provenance": [
    {
     "file_id": "1f2eiKCefsn_ZDcqddRxXosPR6ZZr0Do-",
     "timestamp": 1619467509157
    },
    {
     "file_id": "1f32gj5IYIyFipoINiC8P3DvKat-WWLUK",
     "timestamp": 1619343598837
    }
   ]
  },
  "kernelspec": {
   "display_name": "Python 3",
   "language": "python",
   "name": "python3"
  },
  "language_info": {
   "codemirror_mode": {
    "name": "ipython",
    "version": 3
   },
   "file_extension": ".py",
   "mimetype": "text/x-python",
   "name": "python",
   "nbconvert_exporter": "python",
   "pygments_lexer": "ipython3",
   "version": "3.8.5"
  }
 },
 "nbformat": 4,
 "nbformat_minor": 1
}
